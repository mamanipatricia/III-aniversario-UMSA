{
 "cells": [
  {
   "cell_type": "markdown",
   "metadata": {},
   "source": [
    "## **IBM WATSON NATURAL LANGUAGE UNDERSTANDING**"
   ]
  },
  {
   "cell_type": "code",
   "execution_count": 1,
   "metadata": {},
   "outputs": [
    {
     "name": "stdout",
     "output_type": "stream",
     "text": [
      "Defaulting to user installation because normal site-packages is not writeable\n",
      "Requirement already up-to-date: ibm-watson>=4.1.0 in /home/tonito/.local/lib/python3.9/site-packages (5.1.0)\n",
      "Requirement already satisfied, skipping upgrade: requests<3.0,>=2.0 in /usr/lib/python3.9/site-packages (from ibm-watson>=4.1.0) (2.25.1)\n",
      "Requirement already satisfied, skipping upgrade: python_dateutil>=2.5.3 in /usr/lib/python3.9/site-packages (from ibm-watson>=4.1.0) (2.8.1)\n",
      "Requirement already satisfied, skipping upgrade: websocket-client==0.48.0 in /home/tonito/.local/lib/python3.9/site-packages (from ibm-watson>=4.1.0) (0.48.0)\n",
      "Requirement already satisfied, skipping upgrade: ibm_cloud_sdk_core>=3.3.6 in /home/tonito/.local/lib/python3.9/site-packages (from ibm-watson>=4.1.0) (3.8.0)\n",
      "Requirement already satisfied, skipping upgrade: chardet>=3.0.2 in /usr/lib/python3.9/site-packages (from requests<3.0,>=2.0->ibm-watson>=4.1.0) (3.0.4)\n",
      "Requirement already satisfied, skipping upgrade: idna>=2.5 in /usr/lib/python3.9/site-packages (from requests<3.0,>=2.0->ibm-watson>=4.1.0) (2.10)\n",
      "Requirement already satisfied, skipping upgrade: urllib3>=1.21.1 in /usr/lib/python3.9/site-packages (from requests<3.0,>=2.0->ibm-watson>=4.1.0) (1.26.1)\n",
      "Requirement already satisfied, skipping upgrade: six>=1.5 in /usr/lib/python3.9/site-packages (from python_dateutil>=2.5.3->ibm-watson>=4.1.0) (1.15.0)\n",
      "Requirement already satisfied, skipping upgrade: PyJWT<3.0.0,>=2.0.1 in /home/tonito/.local/lib/python3.9/site-packages (from ibm_cloud_sdk_core>=3.3.6->ibm-watson>=4.1.0) (2.0.1)\n",
      "Defaulting to user installation because normal site-packages is not writeable\n",
      "Requirement already up-to-date: python-dotenv in /home/tonito/.local/lib/python3.9/site-packages (0.15.0)\n"
     ]
    }
   ],
   "source": [
    "!pip install --upgrade \"ibm-watson>=4.1.0\"\n",
    "!pip install --upgrade python-dotenv\n",
    "# !pip list\n",
    "# !type -a pip"
   ]
  },
  {
   "cell_type": "code",
   "execution_count": 2,
   "metadata": {},
   "outputs": [],
   "source": [
    "import pandas as pd\n",
    "import pickle"
   ]
  },
  {
   "cell_type": "code",
   "execution_count": 3,
   "metadata": {},
   "outputs": [],
   "source": [
    "# importando un csv\n",
    "df_book = pd.read_excel('./normas-autonomas-de-bolivia.xlsx')\n"
   ]
  },
  {
   "cell_type": "code",
   "execution_count": 4,
   "metadata": {},
   "outputs": [
    {
     "data": {
      "text/html": [
       "<div>\n",
       "<style scoped>\n",
       "    .dataframe tbody tr th:only-of-type {\n",
       "        vertical-align: middle;\n",
       "    }\n",
       "\n",
       "    .dataframe tbody tr th {\n",
       "        vertical-align: top;\n",
       "    }\n",
       "\n",
       "    .dataframe thead th {\n",
       "        text-align: right;\n",
       "    }\n",
       "</style>\n",
       "<table border=\"1\" class=\"dataframe\">\n",
       "  <thead>\n",
       "    <tr style=\"text-align: right;\">\n",
       "      <th></th>\n",
       "      <th>INDEX</th>\n",
       "      <th>ARCHIVO</th>\n",
       "      <th>NIVEL</th>\n",
       "      <th>OBJETO</th>\n",
       "      <th>NROTOPIC</th>\n",
       "      <th>GRUPO</th>\n",
       "      <th>COMPETENCIA</th>\n",
       "      <th>COMP</th>\n",
       "    </tr>\n",
       "  </thead>\n",
       "  <tbody>\n",
       "    <tr>\n",
       "      <th>0</th>\n",
       "      <td>1</td>\n",
       "      <td>6916.pdf</td>\n",
       "      <td>Departamental</td>\n",
       "      <td>Declarar prioridad departamental el suministro...</td>\n",
       "      <td>16</td>\n",
       "      <td>Privativas Central</td>\n",
       "      <td>18. Hidrocarburos.</td>\n",
       "      <td>18. Hidrocarburos. - Privativas Central</td>\n",
       "    </tr>\n",
       "    <tr>\n",
       "      <th>1</th>\n",
       "      <td>2</td>\n",
       "      <td>6915.pdf</td>\n",
       "      <td>Departamental</td>\n",
       "      <td>Controlar y regular el transporte de minerales...</td>\n",
       "      <td>19</td>\n",
       "      <td>Privativas Central</td>\n",
       "      <td>21. Codificación sustantiva y adjetiva en mate...</td>\n",
       "      <td>21. Codificación sustantiva y adjetiva en mate...</td>\n",
       "    </tr>\n",
       "    <tr>\n",
       "      <th>2</th>\n",
       "      <td>3</td>\n",
       "      <td>6921.pdf</td>\n",
       "      <td>Departamental</td>\n",
       "      <td>Crear el \"Comité Departamental Interinstitucio...</td>\n",
       "      <td>19</td>\n",
       "      <td>Privativas Central</td>\n",
       "      <td>21. Codificación sustantiva y adjetiva en mate...</td>\n",
       "      <td>21. Codificación sustantiva y adjetiva en mate...</td>\n",
       "    </tr>\n",
       "    <tr>\n",
       "      <th>3</th>\n",
       "      <td>4</td>\n",
       "      <td>5594.pdf</td>\n",
       "      <td>Municipal</td>\n",
       "      <td>LEY MUNICIPAL ELABORACIÓN PARTICIPATIVA DEL AN...</td>\n",
       "      <td>22</td>\n",
       "      <td>Exclusivas Municipal</td>\n",
       "      <td>01. Elaborar su Carta Orgánica Municipal de ac...</td>\n",
       "      <td>01. Elaborar su Carta Orgánica Municipal de ac...</td>\n",
       "    </tr>\n",
       "    <tr>\n",
       "      <th>4</th>\n",
       "      <td>5</td>\n",
       "      <td>5966.pdf</td>\n",
       "      <td>Municipal</td>\n",
       "      <td>LEY MUNICIPAL DE APROBACIÓN DEL PROYECTO DE CA...</td>\n",
       "      <td>22</td>\n",
       "      <td>Exclusivas Municipal</td>\n",
       "      <td>01. Elaborar su Carta Orgánica Municipal de ac...</td>\n",
       "      <td>01. Elaborar su Carta Orgánica Municipal de ac...</td>\n",
       "    </tr>\n",
       "  </tbody>\n",
       "</table>\n",
       "</div>"
      ],
      "text/plain": [
       "   INDEX   ARCHIVO          NIVEL  \\\n",
       "0      1  6916.pdf  Departamental   \n",
       "1      2  6915.pdf  Departamental   \n",
       "2      3  6921.pdf  Departamental   \n",
       "3      4  5594.pdf      Municipal   \n",
       "4      5  5966.pdf      Municipal   \n",
       "\n",
       "                                              OBJETO  NROTOPIC  \\\n",
       "0  Declarar prioridad departamental el suministro...        16   \n",
       "1  Controlar y regular el transporte de minerales...        19   \n",
       "2  Crear el \"Comité Departamental Interinstitucio...        19   \n",
       "3  LEY MUNICIPAL ELABORACIÓN PARTICIPATIVA DEL AN...        22   \n",
       "4  LEY MUNICIPAL DE APROBACIÓN DEL PROYECTO DE CA...        22   \n",
       "\n",
       "                  GRUPO                                        COMPETENCIA  \\\n",
       "0    Privativas Central                                 18. Hidrocarburos.   \n",
       "1    Privativas Central  21. Codificación sustantiva y adjetiva en mate...   \n",
       "2    Privativas Central  21. Codificación sustantiva y adjetiva en mate...   \n",
       "3  Exclusivas Municipal  01. Elaborar su Carta Orgánica Municipal de ac...   \n",
       "4  Exclusivas Municipal  01. Elaborar su Carta Orgánica Municipal de ac...   \n",
       "\n",
       "                                                COMP  \n",
       "0            18. Hidrocarburos. - Privativas Central  \n",
       "1  21. Codificación sustantiva y adjetiva en mate...  \n",
       "2  21. Codificación sustantiva y adjetiva en mate...  \n",
       "3  01. Elaborar su Carta Orgánica Municipal de ac...  \n",
       "4  01. Elaborar su Carta Orgánica Municipal de ac...  "
      ]
     },
     "execution_count": 4,
     "metadata": {},
     "output_type": "execute_result"
    }
   ],
   "source": [
    "df_book.head()"
   ]
  },
  {
   "cell_type": "code",
   "execution_count": 5,
   "metadata": {},
   "outputs": [
    {
     "data": {
      "text/plain": [
       "0       Declarar prioridad departamental el suministro...\n",
       "1       Controlar y regular el transporte de minerales...\n",
       "2       Crear el \"Comité Departamental Interinstitucio...\n",
       "3       LEY MUNICIPAL ELABORACIÓN PARTICIPATIVA DEL AN...\n",
       "4       LEY MUNICIPAL DE APROBACIÓN DEL PROYECTO DE CA...\n",
       "                              ...                        \n",
       "2618    CREACIÓN Y CONSTRUCCIÓN DE CENTROS TERAPÉUTICO...\n",
       "2619    DE CREACIÓN DEL FONDO ROTATORIO PARA ESPECIALI...\n",
       "2620    LEY DE IMPLEMENTACIÓN Y FUNCIONAMIENTO DE COME...\n",
       "2621    QUE APRUEBA LA DONACIÓN DE RECUROS ECONÓMICOS ...\n",
       "2622    ATENCIÓN INTEGRAL PARA NIÑAS, NIÑOS, ADOLESCEN...\n",
       "Name: OBJETO, Length: 2623, dtype: object"
      ]
     },
     "execution_count": 5,
     "metadata": {},
     "output_type": "execute_result"
    }
   ],
   "source": [
    "df_book['OBJETO']\n",
    "# df_book.columns"
   ]
  },
  {
   "cell_type": "code",
   "execution_count": 6,
   "metadata": {},
   "outputs": [],
   "source": [
    "# data = 'As the web gained popularity, a gradual demand for client-side scripting languages developed. At the time, most Internet users were connecting over a 28.8 kbps modem even though web pages were growing in size and complexity. Adding to users’ pain was the large number of round-trips to the server required for simple form validation. Imagine filling out a form, clicking the Submit button, waiting 30 seconds for processing, and then being met with a message indicating that you forgot to complete a required field. Netscape, at that time on the cutting edge of technological innovation, began seriously considering the development of a client-side scripting language to handle simple processing.'\n",
    "# print(data)"
   ]
  },
  {
   "cell_type": "code",
   "execution_count": 7,
   "metadata": {},
   "outputs": [
    {
     "name": "stdout",
     "output_type": "stream",
     "text": [
      "https://gateway.watsonplatform.net/natural-language-understanding/api\n"
     ]
    }
   ],
   "source": [
    "import os\n",
    "\n",
    "# Load .env file using:\n",
    "from dotenv import load_dotenv\n",
    "load_dotenv()\n",
    "\n",
    "API_KEY = os.getenv(\"API_KEY\")\n",
    "URL = os.getenv(\"URL\")\n",
    "print(URL)"
   ]
  },
  {
   "cell_type": "code",
   "execution_count": 8,
   "metadata": {},
   "outputs": [],
   "source": [
    "from ibm_watson import NaturalLanguageUnderstandingV1\n",
    "from ibm_cloud_sdk_core.authenticators import IAMAuthenticator\n",
    "from ibm_watson.natural_language_understanding_v1 import Features,CategoriesOptions,KeywordsOptions\n",
    "import json\n",
    "\n",
    "authenticator = IAMAuthenticator(API_KEY)\n",
    "natural_language_understanding = NaturalLanguageUnderstandingV1(\n",
    "    version='2021-03-22',\n",
    "    authenticator=authenticator\n",
    ")\n",
    "natural_language_understanding.set_service_url(URL)\n"
   ]
  },
  {
   "cell_type": "markdown",
   "metadata": {},
   "source": [
    "### Generación del objeto respuesta con las categorias y keywords(textos relevantes) del modelo de Watson"
   ]
  },
  {
   "cell_type": "code",
   "execution_count": 9,
   "metadata": {},
   "outputs": [
    {
     "name": "stdout",
     "output_type": "stream",
     "text": [
      "{'usage': {'text_units': 1, 'text_characters': 107, 'features': 2}, 'language': 'en', 'keywords': [{'text': 'gas', 'sentiment': {'score': 0, 'label': 'neutral'}, 'relevance': 0.919812, 'emotion': {'sadness': 0.195385, 'joy': 0.510775, 'fear': 0.09675, 'disgust': 0.053492, 'anger': 0.020247}, 'count': 1}, {'text': 'las', 'sentiment': {'score': 0, 'label': 'neutral'}, 'relevance': 0.716157, 'emotion': {'sadness': 0.195385, 'joy': 0.510775, 'fear': 0.09675, 'disgust': 0.053492, 'anger': 0.020247}, 'count': 1}, {'text': 'Oruro', 'sentiment': {'score': 0, 'label': 'neutral'}, 'relevance': 0.644458, 'emotion': {'sadness': 0.195385, 'joy': 0.510775, 'fear': 0.09675, 'disgust': 0.053492, 'anger': 0.020247}, 'count': 1}], 'categories': [{'score': 0.585669, 'label': '/sports/scuba diving'}, {'score': 0.560965, 'label': '/sports/diving'}, {'score': 0.557232, 'label': '/art and entertainment/dance'}]}\n",
      "\n",
      " nro:  0\n",
      "\n",
      " {'usage': {'text_units': 1, 'text_characters': 107, 'features': 2}, 'language': 'en', 'keywords': [{'text': 'gas', 'sentiment': {'score': 0, 'label': 'neutral'}, 'relevance': 0.919812, 'emotion': {'sadness': 0.195385, 'joy': 0.510775, 'fear': 0.09675, 'disgust': 0.053492, 'anger': 0.020247}, 'count': 1}, {'text': 'las', 'sentiment': {'score': 0, 'label': 'neutral'}, 'relevance': 0.716157, 'emotion': {'sadness': 0.195385, 'joy': 0.510775, 'fear': 0.09675, 'disgust': 0.053492, 'anger': 0.020247}, 'count': 1}, {'text': 'Oruro', 'sentiment': {'score': 0, 'label': 'neutral'}, 'relevance': 0.644458, 'emotion': {'sadness': 0.195385, 'joy': 0.510775, 'fear': 0.09675, 'disgust': 0.053492, 'anger': 0.020247}, 'count': 1}], 'categories': [{'score': 0.585669, 'label': '/sports/scuba diving'}, {'score': 0.560965, 'label': '/sports/diving'}, {'score': 0.557232, 'label': '/art and entertainment/dance'}]}\n",
      "{'usage': {'text_units': 1, 'text_characters': 147, 'features': 2}, 'language': 'en', 'keywords': [{'text': 'Controlar y', 'sentiment': {'score': -0.58566, 'label': 'negative'}, 'relevance': 0.999168, 'emotion': {'sadness': 0.157666, 'joy': 0.522208, 'fear': 0.096079, 'disgust': 0.078805, 'anger': 0.110435}, 'count': 1}, {'text': 'Oruro', 'sentiment': {'score': -0.58566, 'label': 'negative'}, 'relevance': 0.644458, 'emotion': {'sadness': 0.157666, 'joy': 0.522208, 'fear': 0.096079, 'disgust': 0.078805, 'anger': 0.110435}, 'count': 1}, {'text': 'regular el', 'sentiment': {'score': -0.58566, 'label': 'negative'}, 'relevance': 0.287061, 'emotion': {'sadness': 0.157666, 'joy': 0.522208, 'fear': 0.096079, 'disgust': 0.078805, 'anger': 0.110435}, 'count': 1}], 'categories': [{'score': 0.554026, 'label': '/art and entertainment/dance'}, {'score': 0.543571, 'label': '/travel/specialty travel/ecotourism'}, {'score': 0.530031, 'label': '/law, govt and politics/government/executive branch'}]}\n",
      "\n",
      " nro:  1\n",
      "\n",
      " {'usage': {'text_units': 1, 'text_characters': 147, 'features': 2}, 'language': 'en', 'keywords': [{'text': 'Controlar y', 'sentiment': {'score': -0.58566, 'label': 'negative'}, 'relevance': 0.999168, 'emotion': {'sadness': 0.157666, 'joy': 0.522208, 'fear': 0.096079, 'disgust': 0.078805, 'anger': 0.110435}, 'count': 1}, {'text': 'Oruro', 'sentiment': {'score': -0.58566, 'label': 'negative'}, 'relevance': 0.644458, 'emotion': {'sadness': 0.157666, 'joy': 0.522208, 'fear': 0.096079, 'disgust': 0.078805, 'anger': 0.110435}, 'count': 1}, {'text': 'regular el', 'sentiment': {'score': -0.58566, 'label': 'negative'}, 'relevance': 0.287061, 'emotion': {'sadness': 0.157666, 'joy': 0.522208, 'fear': 0.096079, 'disgust': 0.078805, 'anger': 0.110435}, 'count': 1}], 'categories': [{'score': 0.554026, 'label': '/art and entertainment/dance'}, {'score': 0.543571, 'label': '/travel/specialty travel/ecotourism'}, {'score': 0.530031, 'label': '/law, govt and politics/government/executive branch'}]}\n",
      "{'usage': {'text_units': 1, 'text_characters': 119, 'features': 2}, 'language': 'en', 'keywords': [{'text': 'Crear el', 'sentiment': {'score': 0, 'label': 'neutral'}, 'relevance': 0.984975, 'emotion': {'sadness': 0.207202, 'joy': 0.472694, 'fear': 0.122944, 'disgust': 0.107546, 'anger': 0.037842}, 'count': 1}, {'text': 'Comité Departamental Interinstitucional de Políticas Mineras', 'sentiment': {'score': 0, 'label': 'neutral'}, 'relevance': 0.133362, 'emotion': {'sadness': 0.207202, 'joy': 0.472694, 'fear': 0.122944, 'disgust': 0.107546, 'anger': 0.037842}, 'count': 1}, {'text': 'definir integrantes y establecer sus funciones', 'sentiment': {'score': 0, 'label': 'neutral'}, 'relevance': 0.090186, 'emotion': {'sadness': 0.207202, 'joy': 0.472694, 'fear': 0.122944, 'disgust': 0.107546, 'anger': 0.037842}, 'count': 1}], 'categories': [{'score': 0.562901, 'label': '/travel/specialty travel/ecotourism'}, {'score': 0.54735, 'label': '/food and drink/gastronomy'}, {'score': 0.528005, 'label': '/art and entertainment/music'}]}\n",
      "\n",
      " nro:  2\n",
      "\n",
      " {'usage': {'text_units': 1, 'text_characters': 119, 'features': 2}, 'language': 'en', 'keywords': [{'text': 'Crear el', 'sentiment': {'score': 0, 'label': 'neutral'}, 'relevance': 0.984975, 'emotion': {'sadness': 0.207202, 'joy': 0.472694, 'fear': 0.122944, 'disgust': 0.107546, 'anger': 0.037842}, 'count': 1}, {'text': 'Comité Departamental Interinstitucional de Políticas Mineras', 'sentiment': {'score': 0, 'label': 'neutral'}, 'relevance': 0.133362, 'emotion': {'sadness': 0.207202, 'joy': 0.472694, 'fear': 0.122944, 'disgust': 0.107546, 'anger': 0.037842}, 'count': 1}, {'text': 'definir integrantes y establecer sus funciones', 'sentiment': {'score': 0, 'label': 'neutral'}, 'relevance': 0.090186, 'emotion': {'sadness': 0.207202, 'joy': 0.472694, 'fear': 0.122944, 'disgust': 0.107546, 'anger': 0.037842}, 'count': 1}], 'categories': [{'score': 0.562901, 'label': '/travel/specialty travel/ecotourism'}, {'score': 0.54735, 'label': '/food and drink/gastronomy'}, {'score': 0.528005, 'label': '/art and entertainment/music'}]}\n",
      "{'usage': {'text_units': 1, 'text_characters': 77, 'features': 2}, 'language': 'en', 'keywords': [{'text': 'LEY MUNICIPAL ELABORACIÓN PARTICIPATIVA DEL ANTEPROYECTO DE LA CARTA ORGANICA', 'sentiment': {'score': 0, 'label': 'neutral'}, 'relevance': 0.5, 'emotion': {'sadness': 0.115168, 'joy': 0.572725, 'fear': 0.051436, 'disgust': 0.119752, 'anger': 0.152631}, 'count': 1}], 'categories': [{'score': 0.572756, 'label': '/travel/tourist destinations/mexico and central america'}, {'score': 0.569564, 'label': '/law, govt and politics'}, {'score': 0.559153, 'label': '/law, govt and politics/government'}]}\n",
      "\n",
      " nro:  3\n",
      "\n",
      " {'usage': {'text_units': 1, 'text_characters': 77, 'features': 2}, 'language': 'en', 'keywords': [{'text': 'LEY MUNICIPAL ELABORACIÓN PARTICIPATIVA DEL ANTEPROYECTO DE LA CARTA ORGANICA', 'sentiment': {'score': 0, 'label': 'neutral'}, 'relevance': 0.5, 'emotion': {'sadness': 0.115168, 'joy': 0.572725, 'fear': 0.051436, 'disgust': 0.119752, 'anger': 0.152631}, 'count': 1}], 'categories': [{'score': 0.572756, 'label': '/travel/tourist destinations/mexico and central america'}, {'score': 0.569564, 'label': '/law, govt and politics'}, {'score': 0.559153, 'label': '/law, govt and politics/government'}]}\n",
      "{'usage': {'text_units': 1, 'text_characters': 58, 'features': 2}, 'language': 'en', 'keywords': [{'text': 'LEY MUNICIPAL DE APROBACIÓN DEL PROYECTO DE CARTA ORGÁNICA', 'sentiment': {'score': 0, 'label': 'neutral'}, 'relevance': 0.5, 'emotion': {'sadness': 0.184523, 'joy': 0.530248, 'fear': 0.102369, 'disgust': 0.127575, 'anger': 0.091221}, 'count': 1}], 'categories': [{'score': 0.55576, 'label': '/law, govt and politics/government'}, {'score': 0.535948, 'label': '/law, govt and politics/government/state and local government'}, {'score': 0.532513, 'label': '/society'}]}\n",
      "\n",
      " nro:  4\n",
      "\n",
      " {'usage': {'text_units': 1, 'text_characters': 58, 'features': 2}, 'language': 'en', 'keywords': [{'text': 'LEY MUNICIPAL DE APROBACIÓN DEL PROYECTO DE CARTA ORGÁNICA', 'sentiment': {'score': 0, 'label': 'neutral'}, 'relevance': 0.5, 'emotion': {'sadness': 0.184523, 'joy': 0.530248, 'fear': 0.102369, 'disgust': 0.127575, 'anger': 0.091221}, 'count': 1}], 'categories': [{'score': 0.55576, 'label': '/law, govt and politics/government'}, {'score': 0.535948, 'label': '/law, govt and politics/government/state and local government'}, {'score': 0.532513, 'label': '/society'}]}\n",
      "{'usage': {'text_units': 1, 'text_characters': 58, 'features': 2}, 'language': 'en', 'keywords': [{'text': 'LEY DE APROBACIÓN DE LA CARTA ORGÁNICA MUNICIPAL DE RAVELO', 'sentiment': {'score': 0, 'label': 'neutral'}, 'relevance': 0.5, 'emotion': {'sadness': 0.217803, 'joy': 0.50996, 'fear': 0.111859, 'disgust': 0.119156, 'anger': 0.079342}, 'count': 1}], 'categories': [{'score': 0.57125, 'label': '/society/crime/drug trafficking'}, {'score': 0.543806, 'label': '/law, govt and politics'}, {'score': 0.538408, 'label': '/society/crime/personal offense/torture'}]}\n",
      "\n",
      " nro:  5\n",
      "\n",
      " {'usage': {'text_units': 1, 'text_characters': 58, 'features': 2}, 'language': 'en', 'keywords': [{'text': 'LEY DE APROBACIÓN DE LA CARTA ORGÁNICA MUNICIPAL DE RAVELO', 'sentiment': {'score': 0, 'label': 'neutral'}, 'relevance': 0.5, 'emotion': {'sadness': 0.217803, 'joy': 0.50996, 'fear': 0.111859, 'disgust': 0.119156, 'anger': 0.079342}, 'count': 1}], 'categories': [{'score': 0.57125, 'label': '/society/crime/drug trafficking'}, {'score': 0.543806, 'label': '/law, govt and politics'}, {'score': 0.538408, 'label': '/society/crime/personal offense/torture'}]}\n",
      "{'usage': {'text_units': 1, 'text_characters': 91, 'features': 2}, 'language': 'en', 'keywords': [{'text': 'MUNICIPIO AUTÓNOMO DE TOTORA', 'sentiment': {'score': 0, 'label': 'neutral'}, 'relevance': 0.706764, 'emotion': {'sadness': 0.145253, 'joy': 0.547493, 'fear': 0.077549, 'disgust': 0.135123, 'anger': 0.158217}, 'count': 1}, {'text': 'LEY MUNICIPAL DE APROBACIÓN DEL PROYECTO DE CARTA ORGÁNICA DEL', 'sentiment': {'score': 0, 'label': 'neutral'}, 'relevance': 0.293236, 'emotion': {'sadness': 0.145253, 'joy': 0.547493, 'fear': 0.077549, 'disgust': 0.135123, 'anger': 0.158217}, 'count': 1}], 'categories': [{'score': 0.588491, 'label': '/travel/tourist destinations/mexico and central america'}, {'score': 0.549368, 'label': '/law, govt and politics/government'}, {'score': 0.53471, 'label': '/travel/specialty travel/ecotourism'}]}\n",
      "\n",
      " nro:  6\n",
      "\n",
      " {'usage': {'text_units': 1, 'text_characters': 91, 'features': 2}, 'language': 'en', 'keywords': [{'text': 'MUNICIPIO AUTÓNOMO DE TOTORA', 'sentiment': {'score': 0, 'label': 'neutral'}, 'relevance': 0.706764, 'emotion': {'sadness': 0.145253, 'joy': 0.547493, 'fear': 0.077549, 'disgust': 0.135123, 'anger': 0.158217}, 'count': 1}, {'text': 'LEY MUNICIPAL DE APROBACIÓN DEL PROYECTO DE CARTA ORGÁNICA DEL', 'sentiment': {'score': 0, 'label': 'neutral'}, 'relevance': 0.293236, 'emotion': {'sadness': 0.145253, 'joy': 0.547493, 'fear': 0.077549, 'disgust': 0.135123, 'anger': 0.158217}, 'count': 1}], 'categories': [{'score': 0.588491, 'label': '/travel/tourist destinations/mexico and central america'}, {'score': 0.549368, 'label': '/law, govt and politics/government'}, {'score': 0.53471, 'label': '/travel/specialty travel/ecotourism'}]}\n",
      "{'usage': {'text_units': 1, 'text_characters': 116, 'features': 2}, 'language': 'en', 'keywords': [{'text': 'LEY MUNICIPAL DE', 'sentiment': {'score': 0, 'label': 'neutral'}, 'relevance': 0.97942, 'emotion': {'sadness': 0.054653, 'joy': 0.536491, 'fear': 0.113784, 'disgust': 0.196824, 'anger': 0.195813}, 'count': 1}, {'text': 'CULPINA AL CONTROL CONSTITUCIONAL', 'sentiment': {'score': 0, 'label': 'neutral'}, 'relevance': 0.168071, 'emotion': {'sadness': 0.054653, 'joy': 0.536491, 'fear': 0.113784, 'disgust': 0.196824, 'anger': 0.195813}, 'count': 1}, {'text': 'AJUSTE Y ADECUACION DEL PROYECTO DE CARTA ORGANICA MUNICIPAL DE', 'sentiment': {'score': 0, 'label': 'neutral'}, 'relevance': 0.094209, 'emotion': {'sadness': 0.054653, 'joy': 0.536491, 'fear': 0.113784, 'disgust': 0.196824, 'anger': 0.195813}, 'count': 1}], 'categories': [{'score': 0.563233, 'label': '/law, govt and politics/government'}, {'score': 0.56272, 'label': '/law, govt and politics/government/state and local government'}, {'score': 0.520436, 'label': '/society'}]}\n",
      "\n",
      " nro:  7\n",
      "\n",
      " {'usage': {'text_units': 1, 'text_characters': 116, 'features': 2}, 'language': 'en', 'keywords': [{'text': 'LEY MUNICIPAL DE', 'sentiment': {'score': 0, 'label': 'neutral'}, 'relevance': 0.97942, 'emotion': {'sadness': 0.054653, 'joy': 0.536491, 'fear': 0.113784, 'disgust': 0.196824, 'anger': 0.195813}, 'count': 1}, {'text': 'CULPINA AL CONTROL CONSTITUCIONAL', 'sentiment': {'score': 0, 'label': 'neutral'}, 'relevance': 0.168071, 'emotion': {'sadness': 0.054653, 'joy': 0.536491, 'fear': 0.113784, 'disgust': 0.196824, 'anger': 0.195813}, 'count': 1}, {'text': 'AJUSTE Y ADECUACION DEL PROYECTO DE CARTA ORGANICA MUNICIPAL DE', 'sentiment': {'score': 0, 'label': 'neutral'}, 'relevance': 0.094209, 'emotion': {'sadness': 0.054653, 'joy': 0.536491, 'fear': 0.113784, 'disgust': 0.196824, 'anger': 0.195813}, 'count': 1}], 'categories': [{'score': 0.563233, 'label': '/law, govt and politics/government'}, {'score': 0.56272, 'label': '/law, govt and politics/government/state and local government'}, {'score': 0.520436, 'label': '/society'}]}\n",
      "{'usage': {'text_units': 1, 'text_characters': 70, 'features': 2}, 'language': 'en', 'keywords': [{'text': 'LEY DE APROBACION DEL PROYECTO DE CARTA ORGANICA MUNICIPAL DE', 'sentiment': {'score': 0, 'label': 'neutral'}, 'relevance': 0.623707, 'emotion': {'sadness': 0.184772, 'joy': 0.561125, 'fear': 0.100333, 'disgust': 0.132077, 'anger': 0.081856}, 'count': 1}, {'text': 'YAPACANI', 'sentiment': {'score': 0, 'label': 'neutral'}, 'relevance': 0.376293, 'emotion': {'sadness': 0.184772, 'joy': 0.561125, 'fear': 0.100333, 'disgust': 0.132077, 'anger': 0.081856}, 'count': 1}], 'categories': [{'score': 0.606102, 'label': '/law, govt and politics'}, {'score': 0.603217, 'label': '/society/crime/personal offense/kidnapping'}, {'score': 0.599012, 'label': '/society/crime/personal offense/torture'}]}\n",
      "\n",
      " nro:  8\n",
      "\n",
      " {'usage': {'text_units': 1, 'text_characters': 70, 'features': 2}, 'language': 'en', 'keywords': [{'text': 'LEY DE APROBACION DEL PROYECTO DE CARTA ORGANICA MUNICIPAL DE', 'sentiment': {'score': 0, 'label': 'neutral'}, 'relevance': 0.623707, 'emotion': {'sadness': 0.184772, 'joy': 0.561125, 'fear': 0.100333, 'disgust': 0.132077, 'anger': 0.081856}, 'count': 1}, {'text': 'YAPACANI', 'sentiment': {'score': 0, 'label': 'neutral'}, 'relevance': 0.376293, 'emotion': {'sadness': 0.184772, 'joy': 0.561125, 'fear': 0.100333, 'disgust': 0.132077, 'anger': 0.081856}, 'count': 1}], 'categories': [{'score': 0.606102, 'label': '/law, govt and politics'}, {'score': 0.603217, 'label': '/society/crime/personal offense/kidnapping'}, {'score': 0.599012, 'label': '/society/crime/personal offense/torture'}]}\n",
      "{'usage': {'text_units': 1, 'text_characters': 103, 'features': 2}, 'language': 'en', 'keywords': [{'text': 'LEY MODIFICATORIA', 'sentiment': {'score': 0, 'label': 'neutral'}, 'relevance': 0.997974, 'emotion': {'sadness': 0.124291, 'joy': 0.588054, 'fear': 0.052443, 'disgust': 0.126534, 'anger': 0.163423}, 'count': 1}, {'text': 'LA LEY MUNICIPAL DE ELABORACION PARTICIPATIVA DEL ANTEPROYECTO DE LA', 'sentiment': {'score': 0, 'label': 'neutral'}, 'relevance': 0.04699, 'emotion': {'sadness': 0.124291, 'joy': 0.588054, 'fear': 0.052443, 'disgust': 0.126534, 'anger': 0.163423}, 'count': 1}, {'text': 'CARTA ORGANICA', 'sentiment': {'score': 0, 'label': 'neutral'}, 'relevance': 0.039542, 'emotion': {'sadness': 0.124291, 'joy': 0.588054, 'fear': 0.052443, 'disgust': 0.126534, 'anger': 0.163423}, 'count': 1}], 'categories': [{'score': 0.531958, 'label': '/society/social institution/marriage/weddings'}, {'score': 0.530502, 'label': '/law, govt and politics'}, {'score': 0.526952, 'label': '/law, govt and politics/government'}]}\n",
      "\n",
      " nro:  9\n",
      "\n",
      " {'usage': {'text_units': 1, 'text_characters': 103, 'features': 2}, 'language': 'en', 'keywords': [{'text': 'LEY MODIFICATORIA', 'sentiment': {'score': 0, 'label': 'neutral'}, 'relevance': 0.997974, 'emotion': {'sadness': 0.124291, 'joy': 0.588054, 'fear': 0.052443, 'disgust': 0.126534, 'anger': 0.163423}, 'count': 1}, {'text': 'LA LEY MUNICIPAL DE ELABORACION PARTICIPATIVA DEL ANTEPROYECTO DE LA', 'sentiment': {'score': 0, 'label': 'neutral'}, 'relevance': 0.04699, 'emotion': {'sadness': 0.124291, 'joy': 0.588054, 'fear': 0.052443, 'disgust': 0.126534, 'anger': 0.163423}, 'count': 1}, {'text': 'CARTA ORGANICA', 'sentiment': {'score': 0, 'label': 'neutral'}, 'relevance': 0.039542, 'emotion': {'sadness': 0.124291, 'joy': 0.588054, 'fear': 0.052443, 'disgust': 0.126534, 'anger': 0.163423}, 'count': 1}], 'categories': [{'score': 0.531958, 'label': '/society/social institution/marriage/weddings'}, {'score': 0.530502, 'label': '/law, govt and politics'}, {'score': 0.526952, 'label': '/law, govt and politics/government'}]}\n",
      "{'usage': {'text_units': 1, 'text_characters': 73, 'features': 2}, 'language': 'en', 'keywords': [{'text': 'DE YAPACANI', 'sentiment': {'score': 0, 'label': 'neutral'}, 'relevance': 0.645974, 'emotion': {'sadness': 0.195402, 'joy': 0.537138, 'fear': 0.097083, 'disgust': 0.123957, 'anger': 0.096537}, 'count': 1}, {'text': 'LEY DE ADECUACION DEL PROYECTO DE LA CARTA ORGANICA MUNICIPAL', 'sentiment': {'score': 0, 'label': 'neutral'}, 'relevance': 0.354026, 'emotion': {'sadness': 0.195402, 'joy': 0.537138, 'fear': 0.097083, 'disgust': 0.123957, 'anger': 0.096537}, 'count': 1}], 'categories': [{'score': 0.612758, 'label': '/law, govt and politics'}, {'score': 0.565656, 'label': '/law, govt and politics/government'}, {'score': 0.54743, 'label': '/society'}]}\n",
      "\n",
      " nro:  10\n",
      "\n",
      " {'usage': {'text_units': 1, 'text_characters': 73, 'features': 2}, 'language': 'en', 'keywords': [{'text': 'DE YAPACANI', 'sentiment': {'score': 0, 'label': 'neutral'}, 'relevance': 0.645974, 'emotion': {'sadness': 0.195402, 'joy': 0.537138, 'fear': 0.097083, 'disgust': 0.123957, 'anger': 0.096537}, 'count': 1}, {'text': 'LEY DE ADECUACION DEL PROYECTO DE LA CARTA ORGANICA MUNICIPAL', 'sentiment': {'score': 0, 'label': 'neutral'}, 'relevance': 0.354026, 'emotion': {'sadness': 0.195402, 'joy': 0.537138, 'fear': 0.097083, 'disgust': 0.123957, 'anger': 0.096537}, 'count': 1}], 'categories': [{'score': 0.612758, 'label': '/law, govt and politics'}, {'score': 0.565656, 'label': '/law, govt and politics/government'}, {'score': 0.54743, 'label': '/society'}]}\n",
      "{'usage': {'text_units': 1, 'text_characters': 64, 'features': 2}, 'language': 'en', 'keywords': [{'text': 'DE ORDENAMIENTO JURÍDICO Y ADMINISTRATIVO MUNICIPAL DE SORACACHI', 'sentiment': {'score': 0, 'label': 'neutral'}, 'relevance': 0.5, 'emotion': {'sadness': 0.151906, 'joy': 0.618331, 'fear': 0.08293, 'disgust': 0.135967, 'anger': 0.062477}, 'count': 1}], 'categories': [{'score': 0.617635, 'label': '/law, govt and politics/government/state and local government'}, {'score': 0.547107, 'label': '/travel/specialty travel/ecotourism'}, {'score': 0.531916, 'label': '/food and drink/gastronomy'}]}\n",
      "\n",
      " nro:  11\n",
      "\n",
      " {'usage': {'text_units': 1, 'text_characters': 64, 'features': 2}, 'language': 'en', 'keywords': [{'text': 'DE ORDENAMIENTO JURÍDICO Y ADMINISTRATIVO MUNICIPAL DE SORACACHI', 'sentiment': {'score': 0, 'label': 'neutral'}, 'relevance': 0.5, 'emotion': {'sadness': 0.151906, 'joy': 0.618331, 'fear': 0.08293, 'disgust': 0.135967, 'anger': 0.062477}, 'count': 1}], 'categories': [{'score': 0.617635, 'label': '/law, govt and politics/government/state and local government'}, {'score': 0.547107, 'label': '/travel/specialty travel/ecotourism'}, {'score': 0.531916, 'label': '/food and drink/gastronomy'}]}\n",
      "{'usage': {'text_units': 1, 'text_characters': 36, 'features': 2}, 'language': 'en', 'keywords': [{'text': 'APROBACIÓN PROYECTO CARTAS ORGÁNICAS', 'sentiment': {'score': 0, 'label': 'neutral'}, 'relevance': 0.5, 'emotion': {'sadness': 0.10851, 'joy': 0.304295, 'fear': 0.059253, 'disgust': 0.097274, 'anger': 0.169713}, 'count': 1}], 'categories': [{'score': 0.535258, 'label': '/society/gay life'}, {'score': 0.529401, 'label': '/society/dating'}, {'score': 0.523715, 'label': '/art and entertainment/books and literature/fan fiction'}]}\n",
      "\n",
      " nro:  12\n",
      "\n",
      " {'usage': {'text_units': 1, 'text_characters': 36, 'features': 2}, 'language': 'en', 'keywords': [{'text': 'APROBACIÓN PROYECTO CARTAS ORGÁNICAS', 'sentiment': {'score': 0, 'label': 'neutral'}, 'relevance': 0.5, 'emotion': {'sadness': 0.10851, 'joy': 0.304295, 'fear': 0.059253, 'disgust': 0.097274, 'anger': 0.169713}, 'count': 1}], 'categories': [{'score': 0.535258, 'label': '/society/gay life'}, {'score': 0.529401, 'label': '/society/dating'}, {'score': 0.523715, 'label': '/art and entertainment/books and literature/fan fiction'}]}\n",
      "{'usage': {'text_units': 1, 'text_characters': 77, 'features': 2}, 'language': 'en', 'keywords': [{'text': 'DEL MUNICIPIO DE COIPASA', 'sentiment': {'score': 0, 'label': 'neutral'}, 'relevance': 0.718745, 'emotion': {'sadness': 0.227756, 'joy': 0.457038, 'fear': 0.112836, 'disgust': 0.125738, 'anger': 0.131223}, 'count': 1}, {'text': 'LEY DE INICIO DE LA ELABORACIÓN DE LA CARTA ORGÁNICA', 'sentiment': {'score': 0, 'label': 'neutral'}, 'relevance': 0.281255, 'emotion': {'sadness': 0.227756, 'joy': 0.457038, 'fear': 0.112836, 'disgust': 0.125738, 'anger': 0.131223}, 'count': 1}], 'categories': [{'score': 0.600786, 'label': '/society/crime/personal offense/torture'}, {'score': 0.598846, 'label': '/society/crime/personal offense/kidnapping'}, {'score': 0.581978, 'label': '/law, govt and politics'}]}\n",
      "\n",
      " nro:  13\n",
      "\n",
      " {'usage': {'text_units': 1, 'text_characters': 77, 'features': 2}, 'language': 'en', 'keywords': [{'text': 'DEL MUNICIPIO DE COIPASA', 'sentiment': {'score': 0, 'label': 'neutral'}, 'relevance': 0.718745, 'emotion': {'sadness': 0.227756, 'joy': 0.457038, 'fear': 0.112836, 'disgust': 0.125738, 'anger': 0.131223}, 'count': 1}, {'text': 'LEY DE INICIO DE LA ELABORACIÓN DE LA CARTA ORGÁNICA', 'sentiment': {'score': 0, 'label': 'neutral'}, 'relevance': 0.281255, 'emotion': {'sadness': 0.227756, 'joy': 0.457038, 'fear': 0.112836, 'disgust': 0.125738, 'anger': 0.131223}, 'count': 1}], 'categories': [{'score': 0.600786, 'label': '/society/crime/personal offense/torture'}, {'score': 0.598846, 'label': '/society/crime/personal offense/kidnapping'}, {'score': 0.581978, 'label': '/law, govt and politics'}]}\n",
      "{'usage': {'text_units': 1, 'text_characters': 109, 'features': 2}, 'language': 'en', 'keywords': [{'text': 'LEY AUTONÓMICA MUNICIPAL DE APROBACIÓN A LA ADECUACIÓN DEL PROYECTO', 'sentiment': {'score': 0, 'label': 'neutral'}, 'relevance': 0.538062, 'emotion': {'sadness': 0.138798, 'joy': 0.560289, 'fear': 0.061412, 'disgust': 0.129254, 'anger': 0.177429}, 'count': 1}, {'text': 'DE LA CARTA ORGÁNICA MUNICIPAL DE HUANUNI', 'sentiment': {'score': 0, 'label': 'neutral'}, 'relevance': 0.461938, 'emotion': {'sadness': 0.138798, 'joy': 0.560289, 'fear': 0.061412, 'disgust': 0.129254, 'anger': 0.177429}, 'count': 1}], 'categories': [{'score': 0.565213, 'label': '/law, govt and politics/government/state and local government'}, {'score': 0.541683, 'label': '/food and drink/gastronomy'}, {'score': 0.537078, 'label': '/travel/specialty travel/ecotourism'}]}\n",
      "\n",
      " nro:  14\n",
      "\n",
      " {'usage': {'text_units': 1, 'text_characters': 109, 'features': 2}, 'language': 'en', 'keywords': [{'text': 'LEY AUTONÓMICA MUNICIPAL DE APROBACIÓN A LA ADECUACIÓN DEL PROYECTO', 'sentiment': {'score': 0, 'label': 'neutral'}, 'relevance': 0.538062, 'emotion': {'sadness': 0.138798, 'joy': 0.560289, 'fear': 0.061412, 'disgust': 0.129254, 'anger': 0.177429}, 'count': 1}, {'text': 'DE LA CARTA ORGÁNICA MUNICIPAL DE HUANUNI', 'sentiment': {'score': 0, 'label': 'neutral'}, 'relevance': 0.461938, 'emotion': {'sadness': 0.138798, 'joy': 0.560289, 'fear': 0.061412, 'disgust': 0.129254, 'anger': 0.177429}, 'count': 1}], 'categories': [{'score': 0.565213, 'label': '/law, govt and politics/government/state and local government'}, {'score': 0.541683, 'label': '/food and drink/gastronomy'}, {'score': 0.537078, 'label': '/travel/specialty travel/ecotourism'}]}\n",
      "{'usage': {'text_units': 1, 'text_characters': 110, 'features': 2}, 'language': 'en', 'keywords': [{'text': 'LEY AUTONÓMICA MUNICIPAL DE APROBACIÓN A LA ADECUACIÓN DEL PROYECTO', 'sentiment': {'score': 0, 'label': 'neutral'}, 'relevance': 0.538062, 'emotion': {'sadness': 0.138798, 'joy': 0.560289, 'fear': 0.061412, 'disgust': 0.129254, 'anger': 0.177429}, 'count': 1}, {'text': 'DE LA CARTA ORGÁNICA MUNICIPAL DE HUANUNI', 'sentiment': {'score': 0, 'label': 'neutral'}, 'relevance': 0.461938, 'emotion': {'sadness': 0.138798, 'joy': 0.560289, 'fear': 0.061412, 'disgust': 0.129254, 'anger': 0.177429}, 'count': 1}], 'categories': [{'score': 0.565213, 'label': '/law, govt and politics/government/state and local government'}, {'score': 0.541683, 'label': '/food and drink/gastronomy'}, {'score': 0.537078, 'label': '/travel/specialty travel/ecotourism'}]}\n",
      "\n",
      " nro:  15\n",
      "\n",
      " {'usage': {'text_units': 1, 'text_characters': 110, 'features': 2}, 'language': 'en', 'keywords': [{'text': 'LEY AUTONÓMICA MUNICIPAL DE APROBACIÓN A LA ADECUACIÓN DEL PROYECTO', 'sentiment': {'score': 0, 'label': 'neutral'}, 'relevance': 0.538062, 'emotion': {'sadness': 0.138798, 'joy': 0.560289, 'fear': 0.061412, 'disgust': 0.129254, 'anger': 0.177429}, 'count': 1}, {'text': 'DE LA CARTA ORGÁNICA MUNICIPAL DE HUANUNI', 'sentiment': {'score': 0, 'label': 'neutral'}, 'relevance': 0.461938, 'emotion': {'sadness': 0.138798, 'joy': 0.560289, 'fear': 0.061412, 'disgust': 0.129254, 'anger': 0.177429}, 'count': 1}], 'categories': [{'score': 0.565213, 'label': '/law, govt and politics/government/state and local government'}, {'score': 0.541683, 'label': '/food and drink/gastronomy'}, {'score': 0.537078, 'label': '/travel/specialty travel/ecotourism'}]}\n",
      "{'usage': {'text_units': 1, 'text_characters': 77, 'features': 2}, 'language': 'en', 'keywords': [{'text': 'LEY MUNICIPAL DE APROBACIÓN DEL PROYECTO DE CARTA ORGÁNICA MUNICIPAL', 'sentiment': {'score': 0, 'label': 'neutral'}, 'relevance': 0.618645, 'emotion': {'sadness': 0.141002, 'joy': 0.575096, 'fear': 0.076691, 'disgust': 0.132205, 'anger': 0.123152}, 'count': 1}, {'text': 'ADECUADO', 'sentiment': {'score': 0, 'label': 'neutral'}, 'relevance': 0.381355, 'emotion': {'sadness': 0.141002, 'joy': 0.575096, 'fear': 0.076691, 'disgust': 0.132205, 'anger': 0.123152}, 'count': 1}], 'categories': [{'score': 0.565875, 'label': '/law, govt and politics/government/state and local government'}, {'score': 0.528403, 'label': '/society'}, {'score': 0.5248, 'label': '/travel/specialty travel/ecotourism'}]}\n",
      "\n",
      " nro:  16\n",
      "\n",
      " {'usage': {'text_units': 1, 'text_characters': 77, 'features': 2}, 'language': 'en', 'keywords': [{'text': 'LEY MUNICIPAL DE APROBACIÓN DEL PROYECTO DE CARTA ORGÁNICA MUNICIPAL', 'sentiment': {'score': 0, 'label': 'neutral'}, 'relevance': 0.618645, 'emotion': {'sadness': 0.141002, 'joy': 0.575096, 'fear': 0.076691, 'disgust': 0.132205, 'anger': 0.123152}, 'count': 1}, {'text': 'ADECUADO', 'sentiment': {'score': 0, 'label': 'neutral'}, 'relevance': 0.381355, 'emotion': {'sadness': 0.141002, 'joy': 0.575096, 'fear': 0.076691, 'disgust': 0.132205, 'anger': 0.123152}, 'count': 1}], 'categories': [{'score': 0.565875, 'label': '/law, govt and politics/government/state and local government'}, {'score': 0.528403, 'label': '/society'}, {'score': 0.5248, 'label': '/travel/specialty travel/ecotourism'}]}\n",
      "{'usage': {'text_units': 1, 'text_characters': 102, 'features': 2}, 'language': 'en', 'keywords': [{'text': 'DE FECHA', 'sentiment': {'score': 0, 'label': 'neutral'}, 'relevance': 0.602084, 'emotion': {'sadness': 0.243543, 'joy': 0.452107, 'fear': 0.221523, 'disgust': 0.132064, 'anger': 0.061871}, 'count': 1}, {'text': 'DE MARZO DE', 'sentiment': {'score': 0, 'label': 'neutral'}, 'relevance': 0.507403, 'emotion': {'sadness': 0.243543, 'joy': 0.452107, 'fear': 0.221523, 'disgust': 0.132064, 'anger': 0.061871}, 'count': 1}, {'text': 'MUNICIPAL Nro08', 'sentiment': {'score': 0, 'label': 'neutral'}, 'relevance': 0.505833, 'emotion': {'sadness': 0.243543, 'joy': 0.452107, 'fear': 0.221523, 'disgust': 0.132064, 'anger': 0.061871}, 'count': 1}], 'categories': [{'score': 0.674058, 'label': '/law, govt and politics/armed forces'}, {'score': 0.553129, 'label': \"/art and entertainment/movies and tv/children's\"}]}\n",
      "\n",
      " nro:  17\n",
      "\n",
      " {'usage': {'text_units': 1, 'text_characters': 102, 'features': 2}, 'language': 'en', 'keywords': [{'text': 'DE FECHA', 'sentiment': {'score': 0, 'label': 'neutral'}, 'relevance': 0.602084, 'emotion': {'sadness': 0.243543, 'joy': 0.452107, 'fear': 0.221523, 'disgust': 0.132064, 'anger': 0.061871}, 'count': 1}, {'text': 'DE MARZO DE', 'sentiment': {'score': 0, 'label': 'neutral'}, 'relevance': 0.507403, 'emotion': {'sadness': 0.243543, 'joy': 0.452107, 'fear': 0.221523, 'disgust': 0.132064, 'anger': 0.061871}, 'count': 1}, {'text': 'MUNICIPAL Nro08', 'sentiment': {'score': 0, 'label': 'neutral'}, 'relevance': 0.505833, 'emotion': {'sadness': 0.243543, 'joy': 0.452107, 'fear': 0.221523, 'disgust': 0.132064, 'anger': 0.061871}, 'count': 1}], 'categories': [{'score': 0.674058, 'label': '/law, govt and politics/armed forces'}, {'score': 0.553129, 'label': \"/art and entertainment/movies and tv/children's\"}]}\n",
      "{'usage': {'text_units': 1, 'text_characters': 90, 'features': 2}, 'language': 'en', 'keywords': [{'text': 'DE FECHA', 'sentiment': {'score': 0, 'label': 'neutral'}, 'relevance': 0.852891, 'emotion': {'sadness': 0.302916, 'joy': 0.429523, 'fear': 0.181402, 'disgust': 0.097331, 'anger': 0.025473}, 'count': 1}, {'text': 'DE FEBRERO DE', 'sentiment': {'score': 0, 'label': 'neutral'}, 'relevance': 0.706235, 'emotion': {'sadness': 0.302916, 'joy': 0.429523, 'fear': 0.181402, 'disgust': 0.097331, 'anger': 0.025473}, 'count': 1}, {'text': 'LEY DE MODIFICACIÓN A LA ORDENANZA MUNICIPAL Nro', 'sentiment': {'score': 0, 'label': 'neutral'}, 'relevance': 0.281653, 'emotion': {'sadness': 0.216285, 'joy': 0.563173, 'fear': 0.096561, 'disgust': 0.105806, 'anger': 0.04191}, 'count': 1}], 'categories': [{'score': 0.710607, 'label': '/law, govt and politics/armed forces'}, {'score': 0.565912, 'label': '/law, govt and politics/espionage and intelligence/terrorism'}]}\n",
      "\n",
      " nro:  18\n",
      "\n",
      " {'usage': {'text_units': 1, 'text_characters': 90, 'features': 2}, 'language': 'en', 'keywords': [{'text': 'DE FECHA', 'sentiment': {'score': 0, 'label': 'neutral'}, 'relevance': 0.852891, 'emotion': {'sadness': 0.302916, 'joy': 0.429523, 'fear': 0.181402, 'disgust': 0.097331, 'anger': 0.025473}, 'count': 1}, {'text': 'DE FEBRERO DE', 'sentiment': {'score': 0, 'label': 'neutral'}, 'relevance': 0.706235, 'emotion': {'sadness': 0.302916, 'joy': 0.429523, 'fear': 0.181402, 'disgust': 0.097331, 'anger': 0.025473}, 'count': 1}, {'text': 'LEY DE MODIFICACIÓN A LA ORDENANZA MUNICIPAL Nro', 'sentiment': {'score': 0, 'label': 'neutral'}, 'relevance': 0.281653, 'emotion': {'sadness': 0.216285, 'joy': 0.563173, 'fear': 0.096561, 'disgust': 0.105806, 'anger': 0.04191}, 'count': 1}], 'categories': [{'score': 0.710607, 'label': '/law, govt and politics/armed forces'}, {'score': 0.565912, 'label': '/law, govt and politics/espionage and intelligence/terrorism'}]}\n",
      "{'usage': {'text_units': 1, 'text_characters': 139, 'features': 2}, 'language': 'en', 'keywords': [{'text': 'LEY DE RECONOCIMIENTO DEL ESPACIO TERRITORIAL Y REGISTRO DE LAS', 'sentiment': {'score': 0, 'label': 'neutral'}, 'relevance': 0.598045, 'emotion': {'sadness': 0.096668, 'joy': 0.583863, 'fear': 0.059811, 'disgust': 0.130502, 'anger': 0.203541}, 'count': 1}, {'text': 'ORGANIZACIONES TERRITORIALES DE BASE DEL MUNICIPIO DE SAN JOSE DE', 'sentiment': {'score': 0, 'label': 'neutral'}, 'relevance': 0.496707, 'emotion': {'sadness': 0.096668, 'joy': 0.583863, 'fear': 0.059811, 'disgust': 0.130502, 'anger': 0.203541}, 'count': 1}, {'text': 'CHIQUITOS', 'sentiment': {'score': 0, 'label': 'neutral'}, 'relevance': 0.405126, 'emotion': {'sadness': 0.096668, 'joy': 0.583863, 'fear': 0.059811, 'disgust': 0.130502, 'anger': 0.203541}, 'count': 1}], 'categories': [{'score': 0.56514, 'label': '/society/crime/personal offense/kidnapping'}, {'score': 0.55159, 'label': '/society/crime/personal offense/torture'}, {'score': 0.546684, 'label': '/law, govt and politics'}]}\n",
      "\n",
      " nro:  19\n",
      "\n",
      " {'usage': {'text_units': 1, 'text_characters': 139, 'features': 2}, 'language': 'en', 'keywords': [{'text': 'LEY DE RECONOCIMIENTO DEL ESPACIO TERRITORIAL Y REGISTRO DE LAS', 'sentiment': {'score': 0, 'label': 'neutral'}, 'relevance': 0.598045, 'emotion': {'sadness': 0.096668, 'joy': 0.583863, 'fear': 0.059811, 'disgust': 0.130502, 'anger': 0.203541}, 'count': 1}, {'text': 'ORGANIZACIONES TERRITORIALES DE BASE DEL MUNICIPIO DE SAN JOSE DE', 'sentiment': {'score': 0, 'label': 'neutral'}, 'relevance': 0.496707, 'emotion': {'sadness': 0.096668, 'joy': 0.583863, 'fear': 0.059811, 'disgust': 0.130502, 'anger': 0.203541}, 'count': 1}, {'text': 'CHIQUITOS', 'sentiment': {'score': 0, 'label': 'neutral'}, 'relevance': 0.405126, 'emotion': {'sadness': 0.096668, 'joy': 0.583863, 'fear': 0.059811, 'disgust': 0.130502, 'anger': 0.203541}, 'count': 1}], 'categories': [{'score': 0.56514, 'label': '/society/crime/personal offense/kidnapping'}, {'score': 0.55159, 'label': '/society/crime/personal offense/torture'}, {'score': 0.546684, 'label': '/law, govt and politics'}]}\n"
     ]
    }
   ],
   "source": [
    "from ibm_watson import ApiException\n",
    "watson = pd.DataFrame(columns=[\"output_watson\"])\n",
    "\n",
    "df_book['OBJETO']\n",
    "\n",
    "# normas[\"OBJETO\"][i]\n",
    "for i in range(20):\n",
    "#     print(\">> \", df_book['book_desc'][i])\n",
    "    response = natural_language_understanding.analyze(\n",
    "                    text=df_book['OBJETO'][i],\n",
    "                    features=Features(\n",
    "                    categories=CategoriesOptions(limit=3),\n",
    "            #             entities=EntitiesOptions(emotion=True, sentiment=True, limit=2),\n",
    "                    keywords=KeywordsOptions(emotion=True, sentiment=True, limit=3)),language=\"en\").get_result()\n",
    "\n",
    "    print(response)\n",
    "    lista_general = []\n",
    "    lista_keywords = []\n",
    "    lista_categories =  []\n",
    "\n",
    "    for keyword in response[\"keywords\"]:\n",
    "        text = keyword[\"text\"]\n",
    "        relevance = keyword[\"relevance\"]\n",
    "        lista_keywords.append(tuple((text+\",\"+str(relevance)).split(\",\")))\n",
    "\n",
    "    for category in response[\"categories\"]:\n",
    "        lista_categories.append(category)\n",
    "\n",
    "    lista_general.append(lista_keywords)\n",
    "    lista_general.append(lista_categories)\n",
    "    print(\"\\n\", \"nro: \", i)\n",
    "    print(\"\\n\", response)\n",
    "\n",
    "    watson = watson.append({\"output_watson\":lista_general}, ignore_index=True)\n",
    "    "
   ]
  },
  {
   "cell_type": "code",
   "execution_count": 10,
   "metadata": {},
   "outputs": [
    {
     "data": {
      "text/html": [
       "<div>\n",
       "<style scoped>\n",
       "    .dataframe tbody tr th:only-of-type {\n",
       "        vertical-align: middle;\n",
       "    }\n",
       "\n",
       "    .dataframe tbody tr th {\n",
       "        vertical-align: top;\n",
       "    }\n",
       "\n",
       "    .dataframe thead th {\n",
       "        text-align: right;\n",
       "    }\n",
       "</style>\n",
       "<table border=\"1\" class=\"dataframe\">\n",
       "  <thead>\n",
       "    <tr style=\"text-align: right;\">\n",
       "      <th></th>\n",
       "      <th>output_watson</th>\n",
       "    </tr>\n",
       "  </thead>\n",
       "  <tbody>\n",
       "    <tr>\n",
       "      <th>0</th>\n",
       "      <td>[[(gas, 0.919812), (las, 0.716157), (Oruro, 0....</td>\n",
       "    </tr>\n",
       "    <tr>\n",
       "      <th>1</th>\n",
       "      <td>[[(Controlar y, 0.999168), (Oruro, 0.644458), ...</td>\n",
       "    </tr>\n",
       "    <tr>\n",
       "      <th>2</th>\n",
       "      <td>[[(Crear el, 0.984975), (Comité Departamental ...</td>\n",
       "    </tr>\n",
       "    <tr>\n",
       "      <th>3</th>\n",
       "      <td>[[(LEY MUNICIPAL ELABORACIÓN PARTICIPATIVA DEL...</td>\n",
       "    </tr>\n",
       "    <tr>\n",
       "      <th>4</th>\n",
       "      <td>[[(LEY MUNICIPAL DE APROBACIÓN DEL PROYECTO DE...</td>\n",
       "    </tr>\n",
       "  </tbody>\n",
       "</table>\n",
       "</div>"
      ],
      "text/plain": [
       "                                       output_watson\n",
       "0  [[(gas, 0.919812), (las, 0.716157), (Oruro, 0....\n",
       "1  [[(Controlar y, 0.999168), (Oruro, 0.644458), ...\n",
       "2  [[(Crear el, 0.984975), (Comité Departamental ...\n",
       "3  [[(LEY MUNICIPAL ELABORACIÓN PARTICIPATIVA DEL...\n",
       "4  [[(LEY MUNICIPAL DE APROBACIÓN DEL PROYECTO DE..."
      ]
     },
     "execution_count": 10,
     "metadata": {},
     "output_type": "execute_result"
    }
   ],
   "source": [
    "watson.head()"
   ]
  },
  {
   "cell_type": "code",
   "execution_count": 11,
   "metadata": {},
   "outputs": [
    {
     "data": {
      "text/plain": [
       "(20, 1)"
      ]
     },
     "execution_count": 11,
     "metadata": {},
     "output_type": "execute_result"
    }
   ],
   "source": [
    "watson.shape"
   ]
  },
  {
   "cell_type": "code",
   "execution_count": 12,
   "metadata": {},
   "outputs": [
    {
     "data": {
      "text/plain": [
       "[[('gas', '0.919812'), ('las', '0.716157'), ('Oruro', '0.644458')],\n",
       " [{'score': 0.585669, 'label': '/sports/scuba diving'},\n",
       "  {'score': 0.560965, 'label': '/sports/diving'},\n",
       "  {'score': 0.557232, 'label': '/art and entertainment/dance'}]]"
      ]
     },
     "execution_count": 12,
     "metadata": {},
     "output_type": "execute_result"
    }
   ],
   "source": [
    "watson['output_watson'][0]"
   ]
  },
  {
   "cell_type": "code",
   "execution_count": 13,
   "metadata": {},
   "outputs": [
    {
     "data": {
      "text/plain": [
       "[[('DE YAPACANI', '0.645974'),\n",
       "  ('LEY DE ADECUACION DEL PROYECTO DE LA CARTA ORGANICA MUNICIPAL',\n",
       "   '0.354026')],\n",
       " [{'score': 0.612758, 'label': '/law, govt and politics'},\n",
       "  {'score': 0.565656, 'label': '/law, govt and politics/government'},\n",
       "  {'score': 0.54743, 'label': '/society'}]]"
      ]
     },
     "execution_count": 13,
     "metadata": {},
     "output_type": "execute_result"
    }
   ],
   "source": [
    "watson['output_watson'][10]"
   ]
  },
  {
   "cell_type": "code",
   "execution_count": 14,
   "metadata": {},
   "outputs": [
    {
     "data": {
      "text/plain": [
       "[{'text': 'LEY DE RECONOCIMIENTO DEL ESPACIO TERRITORIAL Y REGISTRO DE LAS',\n",
       "  'sentiment': {'score': 0, 'label': 'neutral'},\n",
       "  'relevance': 0.598045,\n",
       "  'emotion': {'sadness': 0.096668,\n",
       "   'joy': 0.583863,\n",
       "   'fear': 0.059811,\n",
       "   'disgust': 0.130502,\n",
       "   'anger': 0.203541},\n",
       "  'count': 1},\n",
       " {'text': 'ORGANIZACIONES TERRITORIALES DE BASE DEL MUNICIPIO DE SAN JOSE DE',\n",
       "  'sentiment': {'score': 0, 'label': 'neutral'},\n",
       "  'relevance': 0.496707,\n",
       "  'emotion': {'sadness': 0.096668,\n",
       "   'joy': 0.583863,\n",
       "   'fear': 0.059811,\n",
       "   'disgust': 0.130502,\n",
       "   'anger': 0.203541},\n",
       "  'count': 1},\n",
       " {'text': 'CHIQUITOS',\n",
       "  'sentiment': {'score': 0, 'label': 'neutral'},\n",
       "  'relevance': 0.405126,\n",
       "  'emotion': {'sadness': 0.096668,\n",
       "   'joy': 0.583863,\n",
       "   'fear': 0.059811,\n",
       "   'disgust': 0.130502,\n",
       "   'anger': 0.203541},\n",
       "  'count': 1}]"
      ]
     },
     "execution_count": 14,
     "metadata": {},
     "output_type": "execute_result"
    }
   ],
   "source": [
    "response[\"keywords\"]"
   ]
  },
  {
   "cell_type": "code",
   "execution_count": 15,
   "metadata": {},
   "outputs": [
    {
     "data": {
      "text/plain": [
       "{'usage': {'text_units': 1, 'text_characters': 139, 'features': 2},\n",
       " 'language': 'en',\n",
       " 'keywords': [{'text': 'LEY DE RECONOCIMIENTO DEL ESPACIO TERRITORIAL Y REGISTRO DE LAS',\n",
       "   'sentiment': {'score': 0, 'label': 'neutral'},\n",
       "   'relevance': 0.598045,\n",
       "   'emotion': {'sadness': 0.096668,\n",
       "    'joy': 0.583863,\n",
       "    'fear': 0.059811,\n",
       "    'disgust': 0.130502,\n",
       "    'anger': 0.203541},\n",
       "   'count': 1},\n",
       "  {'text': 'ORGANIZACIONES TERRITORIALES DE BASE DEL MUNICIPIO DE SAN JOSE DE',\n",
       "   'sentiment': {'score': 0, 'label': 'neutral'},\n",
       "   'relevance': 0.496707,\n",
       "   'emotion': {'sadness': 0.096668,\n",
       "    'joy': 0.583863,\n",
       "    'fear': 0.059811,\n",
       "    'disgust': 0.130502,\n",
       "    'anger': 0.203541},\n",
       "   'count': 1},\n",
       "  {'text': 'CHIQUITOS',\n",
       "   'sentiment': {'score': 0, 'label': 'neutral'},\n",
       "   'relevance': 0.405126,\n",
       "   'emotion': {'sadness': 0.096668,\n",
       "    'joy': 0.583863,\n",
       "    'fear': 0.059811,\n",
       "    'disgust': 0.130502,\n",
       "    'anger': 0.203541},\n",
       "   'count': 1}],\n",
       " 'categories': [{'score': 0.56514,\n",
       "   'label': '/society/crime/personal offense/kidnapping'},\n",
       "  {'score': 0.55159, 'label': '/society/crime/personal offense/torture'},\n",
       "  {'score': 0.546684, 'label': '/law, govt and politics'}]}"
      ]
     },
     "execution_count": 15,
     "metadata": {},
     "output_type": "execute_result"
    }
   ],
   "source": [
    "response"
   ]
  },
  {
   "cell_type": "code",
   "execution_count": 16,
   "metadata": {},
   "outputs": [],
   "source": [
    "watson.to_pickle(\"watson_result.pkl\")"
   ]
  },
  {
   "cell_type": "code",
   "execution_count": 17,
   "metadata": {},
   "outputs": [
    {
     "data": {
      "text/html": [
       "<div>\n",
       "<style scoped>\n",
       "    .dataframe tbody tr th:only-of-type {\n",
       "        vertical-align: middle;\n",
       "    }\n",
       "\n",
       "    .dataframe tbody tr th {\n",
       "        vertical-align: top;\n",
       "    }\n",
       "\n",
       "    .dataframe thead th {\n",
       "        text-align: right;\n",
       "    }\n",
       "</style>\n",
       "<table border=\"1\" class=\"dataframe\">\n",
       "  <thead>\n",
       "    <tr style=\"text-align: right;\">\n",
       "      <th></th>\n",
       "      <th>output_watson</th>\n",
       "    </tr>\n",
       "  </thead>\n",
       "  <tbody>\n",
       "    <tr>\n",
       "      <th>0</th>\n",
       "      <td>[[(gas, 0.919812), (las, 0.716157), (Oruro, 0....</td>\n",
       "    </tr>\n",
       "    <tr>\n",
       "      <th>1</th>\n",
       "      <td>[[(Controlar y, 0.999168), (Oruro, 0.644458), ...</td>\n",
       "    </tr>\n",
       "  </tbody>\n",
       "</table>\n",
       "</div>"
      ],
      "text/plain": [
       "                                       output_watson\n",
       "0  [[(gas, 0.919812), (las, 0.716157), (Oruro, 0....\n",
       "1  [[(Controlar y, 0.999168), (Oruro, 0.644458), ..."
      ]
     },
     "execution_count": 17,
     "metadata": {},
     "output_type": "execute_result"
    }
   ],
   "source": [
    "df_books = pickle.load(open(\"./watson_result.pkl\",\"rb\"))\n",
    "df_books.head(2)"
   ]
  },
  {
   "cell_type": "code",
   "execution_count": 18,
   "metadata": {},
   "outputs": [
    {
     "data": {
      "text/plain": [
       "{'usage': {'text_units': 1, 'text_characters': 139, 'features': 2},\n",
       " 'language': 'en',\n",
       " 'keywords': [{'text': 'LEY DE RECONOCIMIENTO DEL ESPACIO TERRITORIAL Y REGISTRO DE LAS',\n",
       "   'sentiment': {'score': 0, 'label': 'neutral'},\n",
       "   'relevance': 0.598045,\n",
       "   'emotion': {'sadness': 0.096668,\n",
       "    'joy': 0.583863,\n",
       "    'fear': 0.059811,\n",
       "    'disgust': 0.130502,\n",
       "    'anger': 0.203541},\n",
       "   'count': 1},\n",
       "  {'text': 'ORGANIZACIONES TERRITORIALES DE BASE DEL MUNICIPIO DE SAN JOSE DE',\n",
       "   'sentiment': {'score': 0, 'label': 'neutral'},\n",
       "   'relevance': 0.496707,\n",
       "   'emotion': {'sadness': 0.096668,\n",
       "    'joy': 0.583863,\n",
       "    'fear': 0.059811,\n",
       "    'disgust': 0.130502,\n",
       "    'anger': 0.203541},\n",
       "   'count': 1},\n",
       "  {'text': 'CHIQUITOS',\n",
       "   'sentiment': {'score': 0, 'label': 'neutral'},\n",
       "   'relevance': 0.405126,\n",
       "   'emotion': {'sadness': 0.096668,\n",
       "    'joy': 0.583863,\n",
       "    'fear': 0.059811,\n",
       "    'disgust': 0.130502,\n",
       "    'anger': 0.203541},\n",
       "   'count': 1}],\n",
       " 'categories': [{'score': 0.56514,\n",
       "   'label': '/society/crime/personal offense/kidnapping'},\n",
       "  {'score': 0.55159, 'label': '/society/crime/personal offense/torture'},\n",
       "  {'score': 0.546684, 'label': '/law, govt and politics'}]}"
      ]
     },
     "execution_count": 18,
     "metadata": {},
     "output_type": "execute_result"
    }
   ],
   "source": [
    "response"
   ]
  },
  {
   "cell_type": "code",
   "execution_count": 32,
   "metadata": {},
   "outputs": [
    {
     "data": {
      "text/plain": [
       "[[('LEY AUTONÓMICA MUNICIPAL DE APROBACIÓN A LA ADECUACIÓN DEL PROYECTO',\n",
       "   '0.538062'),\n",
       "  ('DE LA CARTA ORGÁNICA MUNICIPAL DE HUANUNI', '0.461938')],\n",
       " [{'score': 0.565213,\n",
       "   'label': '/law, govt and politics/government/state and local government'},\n",
       "  {'score': 0.541683, 'label': '/food and drink/gastronomy'},\n",
       "  {'score': 0.537078, 'label': '/travel/specialty travel/ecotourism'}]]"
      ]
     },
     "execution_count": 32,
     "metadata": {},
     "output_type": "execute_result"
    }
   ],
   "source": [
    "df_books[\"output_watson\"][15]"
   ]
  },
  {
   "cell_type": "code",
   "execution_count": 30,
   "metadata": {},
   "outputs": [
    {
     "data": {
      "text/plain": [
       "'APROBACIÓN PROYECTO CARTAS ORGÁNICAS'"
      ]
     },
     "execution_count": 30,
     "metadata": {},
     "output_type": "execute_result"
    }
   ],
   "source": [
    "df_book['OBJETO'][15]"
   ]
  },
  {
   "cell_type": "code",
   "execution_count": null,
   "metadata": {},
   "outputs": [],
   "source": []
  }
 ],
 "metadata": {
  "kernelspec": {
   "display_name": "Python 3",
   "language": "python",
   "name": "python3"
  },
  "language_info": {
   "codemirror_mode": {
    "name": "ipython",
    "version": 3
   },
   "file_extension": ".py",
   "mimetype": "text/x-python",
   "name": "python",
   "nbconvert_exporter": "python",
   "pygments_lexer": "ipython3",
   "version": "3.7.6"
  }
 },
 "nbformat": 4,
 "nbformat_minor": 4
}
